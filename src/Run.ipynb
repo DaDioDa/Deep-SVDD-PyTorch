{
 "cells": [
  {
   "cell_type": "code",
   "execution_count": 1,
   "metadata": {},
   "outputs": [],
   "source": [
    "import torch\n",
    "import random\n",
    "import numpy as np\n",
    "from deepSVDD import DeepSVDD\n",
    "from datasets.main import load_dataset\n",
    "from base.base_dataset import BaseADDataset\n",
    "import torch\n",
    "from torch.utils.data import Dataset, DataLoader\n",
    "from sklearn.model_selection import train_test_split\n",
    "from sklearn.decomposition import PCA\n",
    "from imblearn.combine import SMOTEENN\n",
    "from sklearn.preprocessing import MinMaxScaler\n",
    "import pandas as pd\n",
    "import numpy as np\n",
    "from sklearn.utils import resample"
   ]
  },
  {
   "cell_type": "code",
   "execution_count": 2,
   "metadata": {},
   "outputs": [],
   "source": [
    "class CustomDataset(Dataset):\n",
    "    def __init__(self, data, labels):\n",
    "        \"\"\"\n",
    "        初始化 Dataset\n",
    "        :param data: 已處理的特徵數據 (NumPy array or Pandas DataFrame)\n",
    "        :param labels: 對應的標籤數據\n",
    "        \"\"\"\n",
    "        self.data = torch.tensor(data, dtype=torch.float32)\n",
    "        self.labels = torch.tensor(labels, dtype=torch.long)\n",
    "\n",
    "    def __len__(self):\n",
    "        \"\"\"返回數據集大小\"\"\"\n",
    "        return len(self.data)\n",
    "\n",
    "    def __getitem__(self, idx):\n",
    "        \"\"\"根據索引返回一筆數據及其標籤\"\"\"\n",
    "        return self.data[idx], self.labels[idx], idx\n",
    "\n",
    "class MyADDataset(BaseADDataset):\n",
    "    def __init__(self):\n",
    "        super().__init__(r'multiclass15\\csv_result-data1 Sampled Scenarios.csv')\n",
    "\n",
    "    def process_data(self, file_path):\n",
    "        # 讀取資料\n",
    "        df=pd.read_csv(r'multiclass15\\csv_result-data1 Sampled Scenarios.csv')\n",
    "        for i in range(2, 16):\n",
    "            tmp = pd.read_csv(r'multiclass15\\csv_result-data'+str(i)+' Sampled Scenarios.csv')\n",
    "            df = pd.concat([df, tmp], ignore_index=True)\n",
    "        \n",
    "        # df = pd.read_csv(file_path)\n",
    "        df = df.replace([np.inf, -np.inf], np.nan).dropna()\n",
    "        df = df.drop('id', axis=1)\n",
    "        \n",
    "        # 標籤處理\n",
    "        y = df['marker']\n",
    "        y = [0 if value in [41] else 1 for value in y]\n",
    "        X = df.drop('marker', axis=1)\n",
    "\n",
    "        # 刪除不必要的欄位\n",
    "        columns_to_drop = ['control_panel_log1', 'control_panel_log2', 'control_panel_log3', \n",
    "                        'control_panel_log4', 'relay1_log', 'relay2_log', 'relay3_log', \n",
    "                        'relay4_log', 'snort_log1', 'snort_log2', 'snort_log3', 'snort_log4']\n",
    "        X = X.drop(columns=columns_to_drop, axis=1)\n",
    "        \n",
    "        # 分割數據集\n",
    "        X_train, X_test, y_train, y_test = train_test_split(\n",
    "            X, y, test_size=0.2, stratify=y, random_state=42\n",
    "        )\n",
    "\n",
    "        # PCA 降維\n",
    "        # pca = PCA(n_components=15)\n",
    "        # X_train = pca.fit_transform(X_train)\n",
    "        # X_test = pca.transform(X_test)\n",
    "\n",
    "        X_train_df = pd.DataFrame(X_train)\n",
    "        y_train_df = pd.DataFrame(y_train, columns=['label'])\n",
    "\n",
    "        X_train_df.reset_index(drop=True, inplace=True)\n",
    "        y_train_df.reset_index(drop=True, inplace=True)\n",
    "\n",
    "        merged_df = pd.concat([X_train_df, y_train_df], axis=1)\n",
    "        \n",
    "        label_0_data = merged_df[merged_df['label'] == 0]\n",
    "        train_data = label_0_data.drop('label', axis=1)\n",
    "\n",
    "        # Min-Max 標準化\n",
    "        scaler = MinMaxScaler()\n",
    "        X_train = scaler.fit_transform(train_data)\n",
    "        X_test = scaler.transform(X_test)\n",
    "\n",
    "        return X_train, X_test, y_train, y_test\n",
    "\n",
    "    def create_dataloaders(self, file_path, batch_size=32, num_workers=0):\n",
    "        # 處理數據\n",
    "        X_train, X_test, y_train, y_test = self.process_data(file_path)\n",
    "\n",
    "        # 建立 Dataset\n",
    "        train_dataset = CustomDataset(X_train, y_train)\n",
    "        test_dataset = CustomDataset(X_test, y_test)\n",
    "\n",
    "        # 建立 DataLoader\n",
    "        train_loader = DataLoader(train_dataset, batch_size=batch_size, shuffle=False, num_workers=num_workers)\n",
    "        test_loader = DataLoader(test_dataset, batch_size=batch_size, shuffle=False, num_workers=num_workers)\n",
    "\n",
    "        return train_loader, test_loader\n",
    "    \n",
    "    def loaders(self, batch_size, shuffle_train=True, shuffle_test=False, num_workers = 0):\n",
    "        train_loader, test_loader = self.create_dataloaders(self.root, batch_size=batch_size)\n",
    "        return train_loader, test_loader\n",
    "\n",
    "\n",
    "def test_deep_svdd():\n",
    "    # 隨便填一些測試參數\n",
    "    net_name = 'feature_net'\n",
    "    normal_class = 0\n",
    "    nu = 0.1\n",
    "    objective = 'one-class'\n",
    "    device = 'cuda'\n",
    "\n",
    "    print(\"開始測試 DeepSVDD...\")\n",
    "\n",
    "    # 初始化 DeepSVDD 並設定網路\n",
    "    deep_svdd = DeepSVDD(objective, nu)\n",
    "    deep_svdd.set_network(net_name)\n",
    "\n",
    "    data = MyADDataset()\n",
    "\n",
    "    # 測試 train\n",
    "    print(\"開始訓練...\")\n",
    "    deep_svdd.train(\n",
    "        data,\n",
    "        optimizer_name='adam',\n",
    "        lr=0.001,\n",
    "        n_epochs=150, \n",
    "        lr_milestones=[],\n",
    "        batch_size=64,\n",
    "        weight_decay=1e-6,\n",
    "        device=device,\n",
    "        n_jobs_dataloader=0\n",
    "    )\n",
    "    print(\"訓練完成。\")\n",
    "\n",
    "    # 測試 test\n",
    "    print(\"開始測試...\")\n",
    "    deep_svdd.test(data, device=device, n_jobs_dataloader=0)\n",
    "\n",
    "    print(\"測試完成。\")\n",
    "\n",
    "    return deep_svdd.results, deep_svdd.getNet(), data"
   ]
  },
  {
   "cell_type": "code",
   "execution_count": 3,
   "metadata": {},
   "outputs": [
    {
     "name": "stdout",
     "output_type": "stream",
     "text": [
      "開始測試 DeepSVDD...\n",
      "開始訓練...\n"
     ]
    },
    {
     "name": "stderr",
     "output_type": "stream",
     "text": [
      "c:\\Users\\user\\AppData\\Local\\anaconda3\\envs\\DeepSVDD\\Lib\\site-packages\\torch\\optim\\lr_scheduler.py:224: UserWarning: Detected call of `lr_scheduler.step()` before `optimizer.step()`. In PyTorch 1.1.0 and later, you should call them in the opposite order: `optimizer.step()` before `lr_scheduler.step()`.  Failure to do this will result in PyTorch skipping the first value of the learning rate schedule. See more details at https://pytorch.org/docs/stable/optim.html#how-to-adjust-learning-rate\n",
      "  warnings.warn(\n"
     ]
    },
    {
     "name": "stdout",
     "output_type": "stream",
     "text": [
      "訓練完成。\n",
      "開始測試...\n",
      "測試完成。\n"
     ]
    }
   ],
   "source": [
    "import logging\n",
    "logger = logging.getLogger()\n",
    "\n",
    "results, net, dataset = test_deep_svdd()"
   ]
  },
  {
   "cell_type": "code",
   "execution_count": 4,
   "metadata": {},
   "outputs": [],
   "source": [
    "def get_hyperFeature(TrainTest):\n",
    "    net.eval()\n",
    "    train_loader, test_loader = dataset.loaders(batch_size=64, num_workers=0)\n",
    "    hyperFeature = []\n",
    "\n",
    "    if TrainTest == 'train':\n",
    "        loader = train_loader\n",
    "    else:\n",
    "        loader = test_loader\n",
    "\n",
    "    with torch.no_grad():\n",
    "        for data in loader:\n",
    "            inputs, labels, idx = data\n",
    "            inputs = inputs.to('cuda')\n",
    "\n",
    "            # 找到你了 小調皮\n",
    "            outputs = net(inputs)\n",
    "\n",
    "            hyperFeature.append(outputs.cpu().numpy())\n",
    "\n",
    "    hyperFeatureNP = np.vstack(hyperFeature)\n",
    "    return hyperFeatureNP"
   ]
  },
  {
   "cell_type": "code",
   "execution_count": 5,
   "metadata": {},
   "outputs": [
    {
     "name": "stdout",
     "output_type": "stream",
     "text": [
      "[[ 0.1000015  -0.12302116 -0.10052359 ... -0.16286997  0.19110052\n",
      "  -0.10003602]\n",
      " [ 0.10002931 -0.12303856 -0.10050573 ... -0.16286965  0.1911035\n",
      "  -0.1000312 ]\n",
      " [ 0.10000904 -0.12303165 -0.10051534 ... -0.16286565  0.19109961\n",
      "  -0.1000294 ]\n",
      " ...\n",
      " [ 0.09999368 -0.12302593 -0.10052872 ... -0.16287388  0.19109657\n",
      "  -0.10002799]\n",
      " [ 0.09999985 -0.12302656 -0.10052263 ... -0.16287315  0.19110839\n",
      "  -0.10001974]\n",
      " [ 0.09998039 -0.12301916 -0.10051014 ... -0.16285288  0.19109353\n",
      "  -0.10001429]]\n",
      "[[ 0.10000552 -0.12303285 -0.10053382 ... -0.16288051  0.19108588\n",
      "  -0.10002594]\n",
      " [ 0.09994605 -0.12299697 -0.10058244 ... -0.162857    0.19111148\n",
      "  -0.10000122]\n",
      " [ 0.10065503 -0.12369854 -0.09986888 ... -0.16296555  0.19148998\n",
      "  -0.09986076]\n",
      " ...\n",
      " [ 0.10000467 -0.12302029 -0.10054063 ... -0.16286269  0.19108605\n",
      "  -0.1000253 ]\n",
      " [ 0.0999918  -0.12302352 -0.10052989 ... -0.16286078  0.1910928\n",
      "  -0.10001538]\n",
      " [ 0.10000566 -0.12301897 -0.10054243 ... -0.16283813  0.19107789\n",
      "  -0.100049  ]]\n"
     ]
    }
   ],
   "source": [
    "trainHF = get_hyperFeature('train')\n",
    "testHF = get_hyperFeature('test')\n",
    "\n",
    "print(trainHF)\n",
    "print(testHF)"
   ]
  },
  {
   "cell_type": "code",
   "execution_count": 6,
   "metadata": {},
   "outputs": [
    {
     "name": "stdout",
     "output_type": "stream",
     "text": [
      "Number of detected anomalies: 8191\n",
      "AUC-ROC: 0.885684886275403\n"
     ]
    }
   ],
   "source": [
    "from sklearn.ensemble import IsolationForest\n",
    "\n",
    "# Initialize the Isolation Forest model\n",
    "iso_forest = IsolationForest(contamination=0.1, random_state=42, n_estimators= 130, bootstrap=True, max_features=7)\n",
    "\n",
    "# Fit the model on the hyperFeatureNP data\n",
    "iso_forest.fit(trainHF)\n",
    "\n",
    "# Predict anomalies\n",
    "anomaly_scores = iso_forest.decision_function(testHF)\n",
    "anomalies = iso_forest.predict(testHF)\n",
    "\n",
    "# Convert predictions to binary labels (1 for normal, -1 for anomaly)\n",
    "anomalies = [1 if x == -1 else 0 for x in anomalies]\n",
    "\n",
    "# Print the number of detected anomalies\n",
    "print(f\"Number of detected anomalies: {sum(anomalies)}\")\n",
    "\n",
    "from sklearn.metrics import roc_auc_score, precision_score\n",
    "# Calculate AUC-ROC\n",
    "\n",
    "y_true = []\n",
    "_, test_loader = dataset.loaders(batch_size=64, num_workers=0)\n",
    "for data in test_loader:\n",
    "    _, labels, _ = data\n",
    "    y_true.append(labels.cpu().numpy())\n",
    "\n",
    "y_true = np.hstack(y_true)\n",
    "\n",
    "auc_roc = roc_auc_score(y_true, -anomaly_scores)\n",
    "print(f\"AUC-ROC: {auc_roc}\")"
   ]
  },
  {
   "cell_type": "code",
   "execution_count": 21,
   "metadata": {},
   "outputs": [
    {
     "data": {
      "text/plain": [
       "(14415, 64)"
      ]
     },
     "execution_count": 21,
     "metadata": {},
     "output_type": "execute_result"
    }
   ],
   "source": [
    "testHF.shape"
   ]
  },
  {
   "cell_type": "code",
   "execution_count": 8,
   "metadata": {},
   "outputs": [],
   "source": [
    "# param_grid = {\n",
    "#     'n_estimators' : [10, 20 ,30, 40, 50, 60, 70, 80, 90, 100, 110, 120, 130, 140, 150, 160, 170, 180, 190, 200],\n",
    "#     'bootstrap' : [True, False],\n",
    "#     'max_features' : [1, 2, 3, 4, 5, 6, 7, 8, 9, 10]\n",
    "# }"
   ]
  },
  {
   "cell_type": "code",
   "execution_count": 9,
   "metadata": {},
   "outputs": [],
   "source": [
    "# n_iter = 3000  # 設定測試次數\n",
    "# best_params = None\n",
    "# best_score = -np.inf\n",
    "# try:\n",
    "#     for i in range(n_iter):\n",
    "#         # 隨機選取參數\n",
    "#         params = {key: random.choice(values) for key, values in param_grid.items()}\n",
    "\n",
    "#         # 初始化模型\n",
    "#         iso_forest = IsolationForest(random_state=42, n_estimators=params['n_estimators'], bootstrap=params['bootstrap'], max_features=params['max_features'])\n",
    "\n",
    "#         # 訓練模型\n",
    "#         iso_forest.fit(trainHF)\n",
    "\n",
    "#         # 預測異常\n",
    "#         anomaly_scores = iso_forest.decision_function(testHF)\n",
    "\n",
    "#         # 計算 AUC-ROC\n",
    "#         auc_roc = roc_auc_score(y_true, -anomaly_scores)\n",
    "\n",
    "#         # 更新最佳參數\n",
    "#         if auc_roc > best_score:\n",
    "#             best_score = auc_roc\n",
    "#             best_params = params\n",
    "\n",
    "#         print(f\"Iteration {i+1}/{n_iter} - AUC-ROC: {auc_roc}\")\n",
    "\n",
    "#     print(f\"Best parameters: {best_params}\")\n",
    "#     print(f\"Best AUC-ROC: {best_score}\")\n",
    "\n",
    "# except KeyboardInterrupt:\n",
    "#     pass\n",
    "\n",
    "# # 輸出最佳結果\n",
    "# print(\"\\nBest Parameters:\", best_params)\n",
    "# print(\"Best ROC-AUC:\", best_score)"
   ]
  },
  {
   "cell_type": "code",
   "execution_count": 10,
   "metadata": {},
   "outputs": [],
   "source": [
    "trainScore = iso_forest.decision_function(trainHF)\n",
    "\n",
    "threshold = np.percentile(trainScore, 50)"
   ]
  },
  {
   "cell_type": "code",
   "execution_count": 11,
   "metadata": {},
   "outputs": [
    {
     "data": {
      "text/plain": [
       "0.11399288433609006"
      ]
     },
     "execution_count": 11,
     "metadata": {},
     "output_type": "execute_result"
    }
   ],
   "source": [
    "threshold"
   ]
  },
  {
   "cell_type": "code",
   "execution_count": 12,
   "metadata": {},
   "outputs": [],
   "source": [
    "thresholdAnomalies = []\n",
    "for i in range(len(anomaly_scores)):\n",
    "    if anomaly_scores[i] < threshold:\n",
    "        thresholdAnomalies.append(1)\n",
    "    else:\n",
    "        thresholdAnomalies.append(0)"
   ]
  },
  {
   "cell_type": "code",
   "execution_count": 13,
   "metadata": {},
   "outputs": [
    {
     "data": {
      "text/plain": [
       "852"
      ]
     },
     "execution_count": 13,
     "metadata": {},
     "output_type": "execute_result"
    }
   ],
   "source": [
    "thresholdAnomalies.count(0)"
   ]
  },
  {
   "cell_type": "code",
   "execution_count": 14,
   "metadata": {},
   "outputs": [
    {
     "name": "stdout",
     "output_type": "stream",
     "text": [
      "Accuracy: 0.9413805064169268\n",
      "F1 Score: 0.9688157360593423\n",
      "Precision: 0.9677799896777999\n",
      "Recall: 0.9698537017880893\n"
     ]
    }
   ],
   "source": [
    "from sklearn.metrics import accuracy_score, f1_score, precision_score, recall_score\n",
    "from sklearn.metrics import confusion_matrix, ConfusionMatrixDisplay\n",
    "import matplotlib.pyplot as plt\n",
    "\n",
    "# Calculate accuracy\n",
    "accuracy = accuracy_score(y_true, thresholdAnomalies)\n",
    "\n",
    "# Calculate F1 score\n",
    "f1 = f1_score(y_true, thresholdAnomalies)\n",
    "\n",
    "precision = precision_score(y_true, thresholdAnomalies)\n",
    "\n",
    "recall = recall_score(y_true, thresholdAnomalies)\n",
    "\n",
    "print(f\"Accuracy: {accuracy}\")\n",
    "print(f\"F1 Score: {f1}\")\n",
    "print(f\"Precision: {precision}\")\n",
    "print(f\"Recall: {recall}\")\n",
    "\n",
    "# Assuming y_test and y_pred are defined\n",
    "# cm = confusion_matrix(y_true, thresholdAnomalies)\n",
    "\n",
    "# disp = ConfusionMatrixDisplay(confusion_matrix=cm, display_labels=[0, 1])\n",
    "# disp.plot()\n",
    "# plt.show()"
   ]
  },
  {
   "cell_type": "code",
   "execution_count": null,
   "metadata": {},
   "outputs": [],
   "source": []
  },
  {
   "cell_type": "code",
   "execution_count": 15,
   "metadata": {},
   "outputs": [
    {
     "name": "stdout",
     "output_type": "stream",
     "text": [
      "Accuracy: 0.6158862296219216\n",
      "F1 Score: 0.745132336018412\n",
      "Precision: 0.9881577340984007\n",
      "Recall: 0.5980493571745235\n"
     ]
    }
   ],
   "source": [
    "from sklearn.metrics import accuracy_score, f1_score, precision_score, recall_score\n",
    "\n",
    "# Calculate accuracy\n",
    "accuracy = accuracy_score(y_true, anomalies)\n",
    "\n",
    "# Calculate F1 score\n",
    "f1 = f1_score(y_true, anomalies)\n",
    "\n",
    "precision = precision_score(y_true, anomalies)\n",
    "\n",
    "recall = recall_score(y_true, anomalies)\n",
    "\n",
    "print(f\"Accuracy: {accuracy}\")\n",
    "print(f\"F1 Score: {f1}\")\n",
    "print(f\"Precision: {precision}\")\n",
    "print(f\"Recall: {recall}\")"
   ]
  },
  {
   "cell_type": "code",
   "execution_count": 16,
   "metadata": {},
   "outputs": [
    {
     "data": {
      "image/png": "[encoded data removed]",
      "text/plain": [
       "<Figure size 640x480 with 2 Axes>"
      ]
     },
     "metadata": {},
     "output_type": "display_data"
    }
   ],
   "source": [
    "from sklearn.metrics import confusion_matrix, ConfusionMatrixDisplay\n",
    "import matplotlib.pyplot as plt\n",
    "\n",
    "# Assuming y_test and y_pred are defined\n",
    "cm = confusion_matrix(y_true, anomalies)\n",
    "\n",
    "disp = ConfusionMatrixDisplay(confusion_matrix=cm, display_labels=[0, 1])\n",
    "disp.plot()\n",
    "plt.show()"
   ]
  },
  {
   "cell_type": "code",
   "execution_count": 17,
   "metadata": {},
   "outputs": [],
   "source": [
    "train_loader, test_loader = dataset.loaders(batch_size=64, num_workers=0)\n",
    "X_train = []\n",
    "X_test = []\n",
    "y_test = []\n",
    "for data in train_loader:\n",
    "    inputs, labels, idx = data\n",
    "    X_train.append(inputs.cpu().numpy())\n",
    "\n",
    "for data in test_loader:\n",
    "    inputs, labels, idx = data\n",
    "    X_test.append(inputs.cpu().numpy())\n",
    "    y_test.append(labels.cpu().numpy())\n",
    "\n",
    "X_train = np.vstack(X_train)\n",
    "X_test = np.vstack(X_test)\n",
    "y_test = np.hstack(y_test)"
   ]
  }
 ],
 "metadata": {
  "kernelspec": {
   "display_name": "DeepSVDD",
   "language": "python",
   "name": "python3"
  },
  "language_info": {
   "codemirror_mode": {
    "name": "ipython",
    "version": 3
   },
   "file_extension": ".py",
   "mimetype": "text/x-python",
   "name": "python",
   "nbconvert_exporter": "python",
   "pygments_lexer": "ipython3",
   "version": "3.11.10"
  }
 },
 "nbformat": 4,
 "nbformat_minor": 2
}
