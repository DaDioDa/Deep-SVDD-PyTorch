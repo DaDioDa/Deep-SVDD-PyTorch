{
 "cells": [
  {
   "cell_type": "code",
   "execution_count": 28,
   "metadata": {},
   "outputs": [],
   "source": [
    "import torch\n",
    "import random\n",
    "import numpy as np\n",
    "from deepSVDD import DeepSVDD\n",
    "from datasets.main import load_dataset\n",
    "from base.base_dataset import BaseADDataset\n",
    "import torch\n",
    "from torch.utils.data import Dataset, DataLoader\n",
    "from sklearn.model_selection import train_test_split\n",
    "from sklearn.decomposition import PCA\n",
    "from imblearn.combine import SMOTEENN\n",
    "from sklearn.preprocessing import MinMaxScaler\n",
    "import pandas as pd\n",
    "import numpy as np"
   ]
  },
  {
   "cell_type": "code",
   "execution_count": 29,
   "metadata": {},
   "outputs": [],
   "source": [
    "class CustomDataset(Dataset):\n",
    "    def __init__(self, data, labels):\n",
    "        \"\"\"\n",
    "        初始化 Dataset\n",
    "        :param data: 已處理的特徵數據 (NumPy array or Pandas DataFrame)\n",
    "        :param labels: 對應的標籤數據\n",
    "        \"\"\"\n",
    "        self.data = torch.tensor(data, dtype=torch.float32)\n",
    "        self.labels = torch.tensor(labels, dtype=torch.long)\n",
    "\n",
    "    def __len__(self):\n",
    "        \"\"\"返回數據集大小\"\"\"\n",
    "        return len(self.data)\n",
    "\n",
    "    def __getitem__(self, idx):\n",
    "        \"\"\"根據索引返回一筆數據及其標籤\"\"\"\n",
    "        return self.data[idx], self.labels[idx], idx\n",
    "\n",
    "class MyADDataset(BaseADDataset):\n",
    "    def __init__(self):\n",
    "        super().__init__(r'multiclass15\\csv_result-data1 Sampled Scenarios.csv')\n",
    "\n",
    "    def process_data(self, file_path):\n",
    "        # 讀取資料\n",
    "        df=pd.read_csv(r'multiclass15\\csv_result-data1 Sampled Scenarios.csv')\n",
    "        for i in range(2, 16):\n",
    "            tmp = pd.read_csv(r'multiclass15\\csv_result-data'+str(i)+' Sampled Scenarios.csv')\n",
    "            df = pd.concat([df, tmp], ignore_index=True)\n",
    "        \n",
    "        # df = pd.read_csv(file_path)\n",
    "        df = df.replace([np.inf, -np.inf], np.nan).dropna()\n",
    "        df = df.drop('id', axis=1)\n",
    "        \n",
    "        # 標籤處理\n",
    "        y = df['marker']\n",
    "        y = [0 if value in [41] else 1 for value in y]\n",
    "        X = df.drop('marker', axis=1)\n",
    "\n",
    "        # 刪除不必要的欄位\n",
    "        columns_to_drop = ['control_panel_log1', 'control_panel_log2', 'control_panel_log3', \n",
    "                        'control_panel_log4', 'relay1_log', 'relay2_log', 'relay3_log', \n",
    "                        'relay4_log', 'snort_log1', 'snort_log2', 'snort_log3', 'snort_log4']\n",
    "        X = X.drop(columns=columns_to_drop, axis=1)\n",
    "        \n",
    "        # 分割數據集\n",
    "        X_train, X_test, y_train, y_test = train_test_split(\n",
    "            X, y, test_size=0.2, stratify=y, random_state=42\n",
    "        )\n",
    "\n",
    "        # PCA 降維\n",
    "        # pca = PCA(n_components=15)\n",
    "        # X_train = pca.fit_transform(X_train)\n",
    "        # X_test = pca.transform(X_test)\n",
    "\n",
    "        X_train_df = pd.DataFrame(X_train)\n",
    "        y_train_df = pd.DataFrame(y_train, columns=['label'])\n",
    "\n",
    "        X_train_df.reset_index(drop=True, inplace=True)\n",
    "        y_train_df.reset_index(drop=True, inplace=True)\n",
    "\n",
    "        merged_df = pd.concat([X_train_df, y_train_df], axis=1)\n",
    "        \n",
    "        label_0_data = merged_df[merged_df['label'] == 0]\n",
    "        train_data = label_0_data.drop('label', axis=1)\n",
    "\n",
    "        # Min-Max 標準化\n",
    "        scaler = MinMaxScaler()\n",
    "        X_train = scaler.fit_transform(train_data)\n",
    "        X_test = scaler.transform(X_test)\n",
    "\n",
    "        return X_train, X_test, y_train, y_test\n",
    "\n",
    "    def create_dataloaders(self, file_path, batch_size=32, num_workers=0):\n",
    "        # 處理數據\n",
    "        X_train, X_test, y_train, y_test = self.process_data(file_path)\n",
    "\n",
    "        # 建立 Dataset\n",
    "        train_dataset = CustomDataset(X_train, y_train)\n",
    "        test_dataset = CustomDataset(X_test, y_test)\n",
    "\n",
    "        # 建立 DataLoader\n",
    "        train_loader = DataLoader(train_dataset, batch_size=batch_size, shuffle=False, num_workers=num_workers)\n",
    "        test_loader = DataLoader(test_dataset, batch_size=batch_size, shuffle=False, num_workers=num_workers)\n",
    "\n",
    "        return train_loader, test_loader\n",
    "    \n",
    "    def loaders(self, batch_size, shuffle_train=True, shuffle_test=False, num_workers = 0):\n",
    "        train_loader, test_loader = self.create_dataloaders(self.root, batch_size=batch_size)\n",
    "        return train_loader, test_loader\n",
    "\n",
    "\n",
    "def test_deep_svdd():\n",
    "    # 隨便填一些測試參數\n",
    "    net_name = 'feature_net'\n",
    "    normal_class = 0\n",
    "    nu = 0.1\n",
    "    objective = 'one-class'\n",
    "    device = 'cuda'\n",
    "\n",
    "    print(\"開始測試 DeepSVDD...\")\n",
    "\n",
    "    # 初始化 DeepSVDD 並設定網路\n",
    "    deep_svdd = DeepSVDD(objective, nu)\n",
    "    deep_svdd.set_network(net_name)\n",
    "\n",
    "    data = MyADDataset()\n",
    "\n",
    "    # 測試 train\n",
    "    import time\n",
    "    start_time = time.time()\n",
    "    print(\"開始訓練...\")\n",
    "    deep_svdd.train(\n",
    "        data,\n",
    "        optimizer_name='adam',\n",
    "        lr=0.001,\n",
    "        n_epochs=100, \n",
    "        lr_milestones=[],\n",
    "        batch_size=64,\n",
    "        weight_decay=1e-6,\n",
    "        device=device,\n",
    "        n_jobs_dataloader=0\n",
    "    )\n",
    "    print(\"訓練完成。\")\n",
    "    end_time = time.time()  # 記錄結束時間\n",
    "    get_hyperFeature_time = end_time - start_time  # 計算運行時間\n",
    "    print(get_hyperFeature_time)\n",
    "\n",
    "\n",
    "    \n",
    "\n",
    "    # 測試 test\n",
    "    print(\"開始測試...\")\n",
    "    deep_svdd.test(data, device=device, n_jobs_dataloader=0)\n",
    "\n",
    "    print(\"測試完成。\")\n",
    "\n",
    "    return deep_svdd.results, deep_svdd.getNet(), data, deep_svdd"
   ]
  },
  {
   "cell_type": "code",
   "execution_count": 30,
   "metadata": {},
   "outputs": [
    {
     "name": "stdout",
     "output_type": "stream",
     "text": [
      "開始測試 DeepSVDD...\n",
      "開始訓練...\n"
     ]
    },
    {
     "name": "stderr",
     "output_type": "stream",
     "text": [
      "c:\\Users\\user\\AppData\\Local\\anaconda3\\envs\\DeepSVDD\\Lib\\site-packages\\torch\\optim\\lr_scheduler.py:224: UserWarning: Detected call of `lr_scheduler.step()` before `optimizer.step()`. In PyTorch 1.1.0 and later, you should call them in the opposite order: `optimizer.step()` before `lr_scheduler.step()`.  Failure to do this will result in PyTorch skipping the first value of the learning rate schedule. See more details at https://pytorch.org/docs/stable/optim.html#how-to-adjust-learning-rate\n",
      "  warnings.warn(\n"
     ]
    },
    {
     "name": "stdout",
     "output_type": "stream",
     "text": [
      "訓練完成。\n",
      "8.374190330505371\n",
      "開始測試...\n",
      "測試完成。\n"
     ]
    }
   ],
   "source": [
    "results, net, dataset, dsvdd = test_deep_svdd()"
   ]
  },
  {
   "cell_type": "code",
   "execution_count": 31,
   "metadata": {},
   "outputs": [],
   "source": [
    "def compute_threshold(train_loader: DataLoader, net, c, quantile: float = 0.99, device: str = 'cuda'):\n",
    "    \"\"\"\n",
    "    計算 One-Class DeepSVDD 模型的閾值。\n",
    "\n",
    "    Args:\n",
    "        train_loader (DataLoader): 訓練數據的 DataLoader。\n",
    "        net (BaseNet): 已訓練的神經網絡模型。\n",
    "        c (torch.Tensor): 超球體中心。\n",
    "        quantile (float): 設定分位數 (默認為 0.95)。\n",
    "        device (str): 訓練時使用的設備 (默認為 'cuda')。\n",
    "\n",
    "    Returns:\n",
    "        float: 基於訓練數據計算的閾值。\n",
    "    \"\"\"\n",
    "\n",
    "    net.eval()  # 設置網絡為評估模式\n",
    "    distances = []  # 用於存儲每個樣本到中心的距離\n",
    "\n",
    "    with torch.no_grad():  # 禁用梯度計算\n",
    "        for data in train_loader:\n",
    "            inputs, _, _ = data\n",
    "            inputs = inputs.to(device)\n",
    "\n",
    "            # 網絡輸出\n",
    "            outputs = net(inputs)\n",
    "\n",
    "            # 計算每個樣本到中心的距離\n",
    "            dist = torch.sqrt(torch.sum((outputs - c) ** 2, dim=1))\n",
    "            distances.append(dist.cpu().numpy())\n",
    "\n",
    "    # 合併所有批次的距離\n",
    "    distances = np.concatenate(distances)\n",
    "\n",
    "    # 根據分位數計算閾值\n",
    "    threshold = np.quantile(distances, quantile)\n",
    "    return threshold"
   ]
  },
  {
   "cell_type": "code",
   "execution_count": 32,
   "metadata": {},
   "outputs": [],
   "source": [
    "train_loader, test_loader = dataset.loaders(batch_size=64, num_workers=0)\n",
    "\n",
    "threashold = compute_threshold(train_loader, net, dsvdd.trainer.c, device='cuda')"
   ]
  },
  {
   "cell_type": "code",
   "execution_count": 33,
   "metadata": {},
   "outputs": [
    {
     "data": {
      "text/plain": [
       "0.0019355769455432891"
      ]
     },
     "execution_count": 33,
     "metadata": {},
     "output_type": "execute_result"
    }
   ],
   "source": [
    "threashold"
   ]
  },
  {
   "cell_type": "code",
   "execution_count": 34,
   "metadata": {},
   "outputs": [],
   "source": [
    "y_score = []\n",
    "y_true = []\n",
    "for i in results['test_scores']:\n",
    "    y_score.append(i[2])\n",
    "    y_true.append(i[1])"
   ]
  },
  {
   "cell_type": "code",
   "execution_count": 35,
   "metadata": {},
   "outputs": [
    {
     "data": {
      "text/plain": [
       "14415"
      ]
     },
     "execution_count": 35,
     "metadata": {},
     "output_type": "execute_result"
    }
   ],
   "source": [
    "len(y_score)"
   ]
  },
  {
   "cell_type": "code",
   "execution_count": 36,
   "metadata": {},
   "outputs": [],
   "source": [
    "y_pred = []\n",
    "\n",
    "for i in range(len(y_score)):\n",
    "    if y_score[i] > threashold:\n",
    "        y_pred.append(0)\n",
    "    else:\n",
    "        y_pred.append(1)"
   ]
  },
  {
   "cell_type": "code",
   "execution_count": 37,
   "metadata": {},
   "outputs": [
    {
     "data": {
      "text/plain": [
       "0.5031150369683147"
      ]
     },
     "execution_count": 37,
     "metadata": {},
     "output_type": "execute_result"
    }
   ],
   "source": [
    "results['test_auc']"
   ]
  },
  {
   "cell_type": "code",
   "execution_count": 38,
   "metadata": {},
   "outputs": [
    {
     "name": "stdout",
     "output_type": "stream",
     "text": [
      "AUC-ROC: 0.5031150369683147\n"
     ]
    }
   ],
   "source": [
    "from sklearn.metrics import roc_auc_score\n",
    "\n",
    "auc_roc = roc_auc_score(y_true, y_score)\n",
    "print(f\"AUC-ROC: {auc_roc}\")"
   ]
  },
  {
   "cell_type": "code",
   "execution_count": 39,
   "metadata": {},
   "outputs": [
    {
     "name": "stdout",
     "output_type": "stream",
     "text": [
      "Accuracy: 0.9213319458896982\n",
      "F1 Score: 0.959055459272097\n",
      "Precision: 0.9377912724191498\n",
      "Recall: 0.9813063395891828\n"
     ]
    }
   ],
   "source": [
    "from sklearn.metrics import accuracy_score, f1_score, precision_score, recall_score\n",
    "\n",
    "print(f\"Accuracy: {accuracy_score(y_true, y_pred)}\")\n",
    "print(f\"F1 Score: {f1_score(y_true, y_pred)}\")\n",
    "print(f\"Precision: {precision_score(y_true, y_pred)}\")\n",
    "print(f\"Recall: {recall_score(y_true, y_pred)}\")"
   ]
  },
  {
   "cell_type": "code",
   "execution_count": 40,
   "metadata": {},
   "outputs": [
    {
     "data": {
      "image/png": "[encoded data removed]",
      "text/plain": [
       "<Figure size 640x480 with 2 Axes>"
      ]
     },
     "metadata": {},
     "output_type": "display_data"
    }
   ],
   "source": [
    "from sklearn.metrics import confusion_matrix, ConfusionMatrixDisplay\n",
    "import matplotlib.pyplot as plt\n",
    "\n",
    "# Assuming y_test and y_pred are defined\n",
    "cm = confusion_matrix(y_true, y_pred)\n",
    "\n",
    "disp = ConfusionMatrixDisplay(confusion_matrix=cm, display_labels=[0, 1])\n",
    "disp.plot()\n",
    "plt.show()"
   ]
  }
 ],
 "metadata": {
  "kernelspec": {
   "display_name": "DeepSVDD",
   "language": "python",
   "name": "python3"
  },
  "language_info": {
   "codemirror_mode": {
    "name": "ipython",
    "version": 3
   },
   "file_extension": ".py",
   "mimetype": "text/x-python",
   "name": "python",
   "nbconvert_exporter": "python",
   "pygments_lexer": "ipython3",
   "version": "3.11.10"
  }
 },
 "nbformat": 4,
 "nbformat_minor": 2
}
