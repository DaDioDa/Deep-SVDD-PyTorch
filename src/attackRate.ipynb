{
 "cells": [
  {
   "cell_type": "code",
   "execution_count": 470,
   "metadata": {},
   "outputs": [],
   "source": [
    "import torch\n",
    "import random\n",
    "import numpy as np\n",
    "from deepSVDD import DeepSVDD\n",
    "from datasets.main import load_dataset\n",
    "from base.base_dataset import BaseADDataset\n",
    "import torch\n",
    "from torch.utils.data import Dataset, DataLoader\n",
    "from sklearn.model_selection import train_test_split\n",
    "from sklearn.decomposition import PCA\n",
    "from imblearn.combine import SMOTEENN\n",
    "from sklearn.preprocessing import MinMaxScaler\n",
    "import pandas as pd\n",
    "import numpy as np\n",
    "from sklearn.utils import resample\n",
    "\n",
    "scaler = MinMaxScaler()"
   ]
  },
  {
   "cell_type": "code",
   "execution_count": 471,
   "metadata": {},
   "outputs": [],
   "source": [
    "class CustomDataset(Dataset):\n",
    "    def __init__(self, data, labels):\n",
    "        \"\"\"\n",
    "        初始化 Dataset\n",
    "        :param data: 已處理的特徵數據 (NumPy array or Pandas DataFrame)\n",
    "        :param labels: 對應的標籤數據\n",
    "        \"\"\"\n",
    "        self.data = torch.tensor(data, dtype=torch.float32)\n",
    "        self.labels = torch.tensor(labels, dtype=torch.long)\n",
    "\n",
    "    def __len__(self):\n",
    "        \"\"\"返回數據集大小\"\"\"\n",
    "        return len(self.data)\n",
    "\n",
    "    def __getitem__(self, idx):\n",
    "        \"\"\"根據索引返回一筆數據及其標籤\"\"\"\n",
    "        return self.data[idx], self.labels[idx], idx\n",
    "\n",
    "class MyADDataset(BaseADDataset):\n",
    "    def __init__(self):\n",
    "        super().__init__(r'multiclass15\\csv_result-data1 Sampled Scenarios.csv')\n",
    "\n",
    "    def process_data(self, file_path):\n",
    "        # 讀取資料\n",
    "        df=pd.read_csv(r'multiclass15\\csv_result-data1 Sampled Scenarios.csv')\n",
    "        for i in range(2, 16):\n",
    "            tmp = pd.read_csv(r'multiclass15\\csv_result-data'+str(i)+' Sampled Scenarios.csv')\n",
    "            df = pd.concat([df, tmp], ignore_index=True)\n",
    "        \n",
    "        # df = pd.read_csv(file_path)\n",
    "        df = df.replace([np.inf, -np.inf], np.nan).dropna()\n",
    "        df = df.drop('id', axis=1)\n",
    "        \n",
    "        # 標籤處理\n",
    "        y = df['marker']\n",
    "        y = [0 if value in [41] else 1 for value in y]\n",
    "        X = df.drop('marker', axis=1)\n",
    "\n",
    "        # 刪除不必要的欄位\n",
    "        columns_to_drop = ['control_panel_log1', 'control_panel_log2', 'control_panel_log3', \n",
    "                        'control_panel_log4', 'relay1_log', 'relay2_log', 'relay3_log', \n",
    "                        'relay4_log', 'snort_log1', 'snort_log2', 'snort_log3', 'snort_log4']\n",
    "        X = X.drop(columns=columns_to_drop, axis=1)\n",
    "        \n",
    "        # 分割數據集\n",
    "        X_train, X_test, y_train, y_test = train_test_split(\n",
    "            X, y, test_size=0.2, stratify=y, random_state=42\n",
    "        )\n",
    "\n",
    "        X_train_df = pd.DataFrame(X_train)\n",
    "        y_train_df = pd.DataFrame(y_train, columns=['label'])\n",
    "\n",
    "        X_train_df.reset_index(drop=True, inplace=True)\n",
    "        y_train_df.reset_index(drop=True, inplace=True)\n",
    "\n",
    "        merged_df = pd.concat([X_train_df, y_train_df], axis=1)\n",
    "        \n",
    "        label_0_data = merged_df[merged_df['label'] == 0]\n",
    "        train_data = label_0_data.drop('label', axis=1)\n",
    "\n",
    "        # Min-Max 標準化\n",
    "        X_train = scaler.fit_transform(train_data)\n",
    "        X_test = scaler.transform(X_test)\n",
    "\n",
    "        return X_train, X_test, y_train, y_test\n",
    "\n",
    "    def create_dataloaders(self, file_path, batch_size=32, num_workers=0):\n",
    "        # 處理數據\n",
    "        X_train, X_test, y_train, y_test = self.process_data(file_path)\n",
    "\n",
    "        # 建立 Dataset\n",
    "        train_dataset = CustomDataset(X_train, y_train)\n",
    "        test_dataset = CustomDataset(X_test, y_test)\n",
    "\n",
    "        # 建立 DataLoader\n",
    "        train_loader = DataLoader(train_dataset, batch_size=batch_size, shuffle=False, num_workers=num_workers)\n",
    "        test_loader = DataLoader(test_dataset, batch_size=batch_size, shuffle=False, num_workers=num_workers)\n",
    "\n",
    "        return train_loader, test_loader\n",
    "    \n",
    "    def loaders(self, batch_size, shuffle_train=True, shuffle_test=False, num_workers = 0):\n",
    "        train_loader, test_loader = self.create_dataloaders(self.root, batch_size=batch_size)\n",
    "        return train_loader, test_loader\n",
    "\n",
    "\n",
    "def test_deep_svdd():\n",
    "    # 隨便填一些測試參數\n",
    "    net_name = 'feature_net'\n",
    "    normal_class = 0\n",
    "    nu = 0.1\n",
    "    objective = 'one-class'\n",
    "    device = 'cuda'\n",
    "\n",
    "    print(\"開始測試 DeepSVDD...\")\n",
    "\n",
    "    # 初始化 DeepSVDD 並設定網路\n",
    "    deep_svdd = DeepSVDD(objective, nu)\n",
    "    deep_svdd.set_network(net_name)\n",
    "\n",
    "    data = MyADDataset()\n",
    "\n",
    "    # 測試 train\n",
    "    print(\"開始訓練...\")\n",
    "    deep_svdd.train(\n",
    "        data,\n",
    "        optimizer_name='adam',\n",
    "        lr=0.001,\n",
    "        n_epochs=150, \n",
    "        lr_milestones=[],\n",
    "        batch_size=64,\n",
    "        weight_decay=1e-6,\n",
    "        device=device,\n",
    "        n_jobs_dataloader=0\n",
    "    )\n",
    "    print(\"訓練完成。\")\n",
    "\n",
    "    # 測試 test\n",
    "    print(\"開始測試...\")\n",
    "    deep_svdd.test(data, device=device, n_jobs_dataloader=0)\n",
    "\n",
    "    print(\"測試完成。\")\n",
    "\n",
    "    return deep_svdd.results, deep_svdd.getNet(), data"
   ]
  },
  {
   "cell_type": "code",
   "execution_count": 472,
   "metadata": {},
   "outputs": [
    {
     "name": "stdout",
     "output_type": "stream",
     "text": [
      "開始測試 DeepSVDD...\n",
      "開始訓練...\n"
     ]
    },
    {
     "name": "stderr",
     "output_type": "stream",
     "text": [
      "c:\\Users\\user\\AppData\\Local\\anaconda3\\envs\\DeepSVDD\\Lib\\site-packages\\torch\\optim\\lr_scheduler.py:224: UserWarning: Detected call of `lr_scheduler.step()` before `optimizer.step()`. In PyTorch 1.1.0 and later, you should call them in the opposite order: `optimizer.step()` before `lr_scheduler.step()`.  Failure to do this will result in PyTorch skipping the first value of the learning rate schedule. See more details at https://pytorch.org/docs/stable/optim.html#how-to-adjust-learning-rate\n",
      "  warnings.warn(\n"
     ]
    },
    {
     "name": "stdout",
     "output_type": "stream",
     "text": [
      "訓練完成。\n",
      "開始測試...\n",
      "測試完成。\n"
     ]
    }
   ],
   "source": [
    "import logging\n",
    "logger = logging.getLogger()\n",
    "\n",
    "results, net, dataset = test_deep_svdd()"
   ]
  },
  {
   "cell_type": "code",
   "execution_count": 473,
   "metadata": {},
   "outputs": [],
   "source": [
    "def get_hyperFeature(TrainTest):\n",
    "    net.eval()\n",
    "    train_loader, test_loader = dataset.loaders(batch_size=64, num_workers=0)\n",
    "    hyperFeature = []\n",
    "\n",
    "    if TrainTest == 'train':\n",
    "        loader = train_loader\n",
    "    else:\n",
    "        loader = test_loader\n",
    "\n",
    "    with torch.no_grad():\n",
    "        for data in loader:\n",
    "            inputs, labels, idx = data\n",
    "            inputs = inputs.to('cuda')\n",
    "\n",
    "            # 找到你了 小調皮\n",
    "            outputs = net(inputs)\n",
    "\n",
    "            hyperFeature.append(outputs.cpu().numpy())\n",
    "\n",
    "    hyperFeatureNP = np.vstack(hyperFeature)\n",
    "    return hyperFeatureNP"
   ]
  },
  {
   "cell_type": "code",
   "execution_count": 474,
   "metadata": {},
   "outputs": [
    {
     "name": "stdout",
     "output_type": "stream",
     "text": [
      "[[-0.0998996   0.10001479  0.13810965 ... -0.10007706  0.12172569\n",
      "   0.10001795]\n",
      " [-0.09989026  0.09999035  0.13810769 ... -0.1000976   0.12175713\n",
      "   0.10003922]\n",
      " [-0.09990098  0.1000029   0.1380892  ... -0.10008506  0.12175315\n",
      "   0.10003749]\n",
      " ...\n",
      " [-0.09989478  0.10000294  0.13807903 ... -0.10007031  0.12177898\n",
      "   0.10005211]\n",
      " [-0.09987925  0.09999406  0.13806334 ... -0.10011166  0.12175155\n",
      "   0.10003889]\n",
      " [-0.09986514  0.09996773  0.13806526 ... -0.10014356  0.12180188\n",
      "   0.10005157]]\n",
      "[[-0.09987516  0.10001443  0.13808818 ... -0.10014117  0.12174363\n",
      "   0.10006057]\n",
      " [-0.09982987  0.099922    0.13807951 ... -0.10018486  0.12179492\n",
      "   0.10005896]\n",
      " [-0.09990989  0.1014524   0.13667436 ... -0.10215627  0.12058031\n",
      "   0.10001462]\n",
      " ...\n",
      " [-0.09987196  0.09990615  0.1381479  ... -0.10012343  0.12184308\n",
      "   0.10004278]\n",
      " [-0.09989816  0.0999985   0.13810173 ... -0.1000853   0.12178153\n",
      "   0.1000298 ]\n",
      " [-0.09989557  0.09991892  0.13812667 ... -0.10009395  0.12182312\n",
      "   0.10002261]]\n"
     ]
    }
   ],
   "source": [
    "trainHF = get_hyperFeature('train')\n",
    "testHF = get_hyperFeature('test')\n",
    "\n",
    "print(trainHF)\n",
    "print(testHF)"
   ]
  },
  {
   "cell_type": "code",
   "execution_count": 475,
   "metadata": {},
   "outputs": [
    {
     "name": "stdout",
     "output_type": "stream",
     "text": [
      "Number of detected anomalies: 11615\n",
      "AUC-ROC: 0.9248622924196293\n"
     ]
    }
   ],
   "source": [
    "from sklearn.ensemble import IsolationForest\n",
    "\n",
    "# Initialize the Isolation Forest model\n",
    "iso_forest = IsolationForest(contamination=0.1, random_state=42, n_estimators= 130, bootstrap=True, max_features=7)\n",
    "\n",
    "# Fit the model on the hyperFeatureNP data\n",
    "iso_forest.fit(trainHF)\n",
    "\n",
    "# Predict anomalies\n",
    "anomaly_scores = iso_forest.decision_function(testHF)\n",
    "anomalies = iso_forest.predict(testHF)\n",
    "\n",
    "# Convert predictions to binary labels (1 for normal, -1 for anomaly)\n",
    "anomalies = [1 if x == -1 else 0 for x in anomalies]\n",
    "\n",
    "# Print the number of detected anomalies\n",
    "print(f\"Number of detected anomalies: {sum(anomalies)}\")\n",
    "\n",
    "from sklearn.metrics import roc_auc_score, precision_score\n",
    "# Calculate AUC-ROC\n",
    "\n",
    "y_true = []\n",
    "_, test_loader = dataset.loaders(batch_size=64, num_workers=0)\n",
    "for data in test_loader:\n",
    "    _, labels, _ = data\n",
    "    y_true.append(labels.cpu().numpy())\n",
    "\n",
    "y_true = np.hstack(y_true)\n",
    "\n",
    "auc_roc = roc_auc_score(y_true, -anomaly_scores)\n",
    "print(f\"AUC-ROC: {auc_roc}\")"
   ]
  },
  {
   "cell_type": "code",
   "execution_count": 476,
   "metadata": {},
   "outputs": [
    {
     "data": {
      "text/plain": [
       "(14415, 64)"
      ]
     },
     "execution_count": 476,
     "metadata": {},
     "output_type": "execute_result"
    }
   ],
   "source": [
    "testHF.shape"
   ]
  },
  {
   "cell_type": "code",
   "execution_count": 477,
   "metadata": {},
   "outputs": [],
   "source": [
    "trainScore = iso_forest.decision_function(trainHF)\n",
    "\n",
    "threshold = np.percentile(trainScore, 20)"
   ]
  },
  {
   "cell_type": "code",
   "execution_count": 478,
   "metadata": {},
   "outputs": [
    {
     "data": {
      "text/plain": [
       "0.06232764947368739"
      ]
     },
     "execution_count": 478,
     "metadata": {},
     "output_type": "execute_result"
    }
   ],
   "source": [
    "threshold"
   ]
  },
  {
   "cell_type": "code",
   "execution_count": 479,
   "metadata": {},
   "outputs": [],
   "source": [
    "thresholdAnomalies = []\n",
    "for i in range(len(anomaly_scores)):\n",
    "    if anomaly_scores[i] < threshold:\n",
    "        thresholdAnomalies.append(1)\n",
    "    else:\n",
    "        thresholdAnomalies.append(0)"
   ]
  },
  {
   "cell_type": "code",
   "execution_count": 480,
   "metadata": {},
   "outputs": [
    {
     "data": {
      "text/plain": [
       "1782"
      ]
     },
     "execution_count": 480,
     "metadata": {},
     "output_type": "execute_result"
    }
   ],
   "source": [
    "thresholdAnomalies.count(0)"
   ]
  },
  {
   "cell_type": "code",
   "execution_count": 481,
   "metadata": {},
   "outputs": [
    {
     "name": "stdout",
     "output_type": "stream",
     "text": [
      "Accuracy: 0.9132154006243496\n",
      "F1 Score: 0.9521916918255818\n",
      "Precision: 0.9861473917517612\n",
      "Recall: 0.9204965272646668\n"
     ]
    }
   ],
   "source": [
    "from sklearn.metrics import accuracy_score, f1_score, precision_score, recall_score\n",
    "from sklearn.metrics import confusion_matrix, ConfusionMatrixDisplay\n",
    "import matplotlib.pyplot as plt\n",
    "\n",
    "# Calculate accuracy\n",
    "accuracy = accuracy_score(y_true, thresholdAnomalies)\n",
    "\n",
    "# Calculate F1 score\n",
    "f1 = f1_score(y_true, thresholdAnomalies)\n",
    "\n",
    "precision = precision_score(y_true, thresholdAnomalies)\n",
    "\n",
    "recall = recall_score(y_true, thresholdAnomalies)\n",
    "\n",
    "print(f\"Accuracy: {accuracy}\")\n",
    "print(f\"F1 Score: {f1}\")\n",
    "print(f\"Precision: {precision}\")\n",
    "print(f\"Recall: {recall}\")\n"
   ]
  },
  {
   "cell_type": "code",
   "execution_count": 482,
   "metadata": {},
   "outputs": [
    {
     "data": {
      "image/png": "[encoded data removed]",
      "text/plain": [
       "<Figure size 640x480 with 2 Axes>"
      ]
     },
     "metadata": {},
     "output_type": "display_data"
    }
   ],
   "source": [
    "from sklearn.metrics import confusion_matrix, ConfusionMatrixDisplay\n",
    "import matplotlib.pyplot as plt\n",
    "\n",
    "# Assuming y_test and y_pred are defined\n",
    "cm = confusion_matrix(y_true, thresholdAnomalies)\n",
    "\n",
    "disp = ConfusionMatrixDisplay(confusion_matrix=cm, display_labels=[0, 1])\n",
    "disp.plot()\n",
    "plt.show()"
   ]
  },
  {
   "cell_type": "code",
   "execution_count": 483,
   "metadata": {},
   "outputs": [],
   "source": [
    "# 讀取多個 CSV 並合併\n",
    "splitAttack = pd.read_csv(r'multiclass15\\csv_result-data1 Sampled Scenarios.csv')\n",
    "for i in range(2, 16):\n",
    "    tmp = pd.read_csv(r'multiclass15\\csv_result-data' + str(i) + ' Sampled Scenarios.csv')\n",
    "    splitAttack = pd.concat([splitAttack, tmp], ignore_index=True)\n"
   ]
  },
  {
   "cell_type": "code",
   "execution_count": 484,
   "metadata": {},
   "outputs": [],
   "source": [
    "# 清理數據\n",
    "normal = splitAttack.replace([np.inf, -np.inf], np.nan).dropna()\n",
    "normal = normal.drop('id', axis=1)\n",
    "\n",
    "# 提取標籤為 7, 8, 9, 10, 11, 12 的數據\n",
    "normal = normal[normal['marker'].isin([41])]\n",
    "\n",
    "# 儲存到新的 DataFrame\n",
    "normal = normal.reset_index(drop=True)  # 重置索引\n",
    "\n",
    "normal = normal.drop('marker', axis=1)\n",
    "\n",
    "# # 刪除不必要的欄位\n",
    "columns_to_drop = ['control_panel_log1', 'control_panel_log2', 'control_panel_log3', \n",
    "                'control_panel_log4', 'relay1_log', 'relay2_log', 'relay3_log', \n",
    "                'relay4_log', 'snort_log1', 'snort_log2', 'snort_log3', 'snort_log4']\n",
    "normal = normal.drop(columns=columns_to_drop, axis=1)\n",
    "\n",
    "normal = scaler.transform(normal)"
   ]
  },
  {
   "cell_type": "code",
   "execution_count": 485,
   "metadata": {},
   "outputs": [],
   "source": [
    "# 清理數據\n",
    "rscAttack = splitAttack.replace([np.inf, -np.inf], np.nan).dropna()\n",
    "rscAttack = rscAttack.drop('id', axis=1)\n",
    "\n",
    "# 提取標籤為 7, 8, 9, 10, 11, 12 的數據\n",
    "rscAttack = rscAttack[rscAttack['marker'].isin([21,22,23,24,25,26,27,28,29,30,35,36,37,38,39,40])]\n",
    "\n",
    "# 儲存到新的 DataFrame\n",
    "rscAttack = rscAttack.reset_index(drop=True)  # 重置索引\n",
    "\n",
    "rscAttack = rscAttack.drop('marker', axis=1)\n",
    "\n",
    "# # 刪除不必要的欄位\n",
    "columns_to_drop = ['control_panel_log1', 'control_panel_log2', 'control_panel_log3', \n",
    "                'control_panel_log4', 'relay1_log', 'relay2_log', 'relay3_log', \n",
    "                'relay4_log', 'snort_log1', 'snort_log2', 'snort_log3', 'snort_log4']\n",
    "rscAttack = rscAttack.drop(columns=columns_to_drop, axis=1)\n",
    "\n",
    "rscAttack = scaler.transform(rscAttack)"
   ]
  },
  {
   "cell_type": "code",
   "execution_count": 486,
   "metadata": {},
   "outputs": [],
   "source": [
    "# 清理數據\n",
    "rtciAttack = splitAttack.replace([np.inf, -np.inf], np.nan).dropna()\n",
    "rtciAttack = rtciAttack.drop('id', axis=1)\n",
    "\n",
    "# 提取標籤為 7, 8, 9, 10, 11, 12 的數據\n",
    "rtciAttack = rtciAttack[rtciAttack['marker'].isin([15,16,17,18,19,20])]\n",
    "\n",
    "# 儲存到新的 DataFrame\n",
    "rtciAttack = rtciAttack.reset_index(drop=True)  # 重置索引\n",
    "\n",
    "rtciAttack = rtciAttack.drop('marker', axis=1)\n",
    "\n",
    "# # 刪除不必要的欄位\n",
    "columns_to_drop = ['control_panel_log1', 'control_panel_log2', 'control_panel_log3', \n",
    "                'control_panel_log4', 'relay1_log', 'relay2_log', 'relay3_log', \n",
    "                'relay4_log', 'snort_log1', 'snort_log2', 'snort_log3', 'snort_log4']\n",
    "rtciAttack = rtciAttack.drop(columns=columns_to_drop, axis=1)\n",
    "\n",
    "rtciAttack = scaler.transform(rtciAttack)"
   ]
  },
  {
   "cell_type": "code",
   "execution_count": 487,
   "metadata": {},
   "outputs": [],
   "source": [
    "# 清理數據\n",
    "djAttack = splitAttack.replace([np.inf, -np.inf], np.nan).dropna()\n",
    "djAttack = djAttack.drop('id', axis=1)\n",
    "\n",
    "# 提取標籤為 7, 8, 9, 10, 11, 12 的數據\n",
    "djAttack = djAttack[djAttack['marker'].isin([7, 8, 9, 10, 11, 12])]\n",
    "\n",
    "# 儲存到新的 DataFrame\n",
    "djAttack = djAttack.reset_index(drop=True)  # 重置索引\n",
    "\n",
    "djAttack = djAttack.drop('marker', axis=1)\n",
    "\n",
    "# # 刪除不必要的欄位\n",
    "columns_to_drop = ['control_panel_log1', 'control_panel_log2', 'control_panel_log3', \n",
    "                'control_panel_log4', 'relay1_log', 'relay2_log', 'relay3_log', \n",
    "                'relay4_log', 'snort_log1', 'snort_log2', 'snort_log3', 'snort_log4']\n",
    "djAttack = djAttack.drop(columns=columns_to_drop, axis=1)\n",
    "\n",
    "djAttack = scaler.transform(djAttack)"
   ]
  },
  {
   "cell_type": "code",
   "execution_count": 488,
   "metadata": {},
   "outputs": [],
   "source": [
    "# 清理數據\n",
    "NaturalEvent = splitAttack.replace([np.inf, -np.inf], np.nan).dropna()\n",
    "NaturalEvent = NaturalEvent.drop('id', axis=1)\n",
    "\n",
    "# 提取標籤為 7, 8, 9, 10, 11, 12 的數據\n",
    "NaturalEvent = NaturalEvent[NaturalEvent['marker'].isin([21,22,23,24,25,26,27,28,29,30,35,36,37,38,39,40])]\n",
    "\n",
    "# 儲存到新的 DataFrame\n",
    "NaturalEvent = NaturalEvent.reset_index(drop=True)  # 重置索引\n",
    "\n",
    "NaturalEvent = NaturalEvent.drop('marker', axis=1)\n",
    "\n",
    "# # 刪除不必要的欄位\n",
    "columns_to_drop = ['control_panel_log1', 'control_panel_log2', 'control_panel_log3', \n",
    "                'control_panel_log4', 'relay1_log', 'relay2_log', 'relay3_log', \n",
    "                'relay4_log', 'snort_log1', 'snort_log2', 'snort_log3', 'snort_log4']\n",
    "NaturalEvent = NaturalEvent.drop(columns=columns_to_drop, axis=1)\n",
    "\n",
    "NaturalEvent = scaler.transform(NaturalEvent)"
   ]
  },
  {
   "cell_type": "code",
   "execution_count": 489,
   "metadata": {},
   "outputs": [],
   "source": [
    "def prid(data):\n",
    "    net.eval()\n",
    "    hyperFeature = []\n",
    "\n",
    "    with torch.no_grad():      \n",
    "        X_tensor = torch.tensor(data, dtype=torch.float32)\n",
    "        X_tensor = X_tensor.to('cuda')\n",
    "\n",
    "        # 找到你了 小調皮\n",
    "        outputs = net(X_tensor)\n",
    "\n",
    "        hyperFeature.append(outputs.cpu().numpy())\n",
    "\n",
    "    hyperFeatureNP = np.vstack(hyperFeature)\n",
    "    return hyperFeatureNP"
   ]
  },
  {
   "cell_type": "code",
   "execution_count": 490,
   "metadata": {},
   "outputs": [],
   "source": [
    "djHF = prid(djAttack)\n",
    "rtciHF = prid(rtciAttack)\n",
    "rscHF = prid(rscAttack)\n",
    "\n",
    "neHF = prid(NaturalEvent)\n",
    "\n",
    "normalHF = prid(normal)"
   ]
  },
  {
   "cell_type": "code",
   "execution_count": 491,
   "metadata": {},
   "outputs": [],
   "source": [
    "no = iso_forest.decision_function(normalHF)\n",
    "\n",
    "noPrid = []\n",
    "for i in range(len(no)):\n",
    "    if no[i] < threshold:\n",
    "        noPrid.append(1)\n",
    "    else:\n",
    "        noPrid.append(0)\n",
    "        \n",
    "nozero = noPrid.count(0)"
   ]
  },
  {
   "cell_type": "code",
   "execution_count": 492,
   "metadata": {},
   "outputs": [],
   "source": [
    "ne = iso_forest.decision_function(neHF)\n",
    "\n",
    "nePrid = []\n",
    "for i in range(len(ne)):\n",
    "    if ne[i] < threshold:\n",
    "        nePrid.append(1)\n",
    "    else:\n",
    "        nePrid.append(0)\n",
    "        \n",
    "ne1 = nePrid.count(1)"
   ]
  },
  {
   "cell_type": "code",
   "execution_count": 493,
   "metadata": {},
   "outputs": [],
   "source": [
    "dj = iso_forest.decision_function(djHF)\n",
    "\n",
    "datainjection = []\n",
    "for i in range(len(dj)):\n",
    "    if dj[i] < threshold:\n",
    "        datainjection.append(1)\n",
    "    else:\n",
    "        datainjection.append(0)\n",
    "        \n",
    "dj1 = datainjection.count(1)"
   ]
  },
  {
   "cell_type": "code",
   "execution_count": 494,
   "metadata": {},
   "outputs": [],
   "source": [
    "rtci = iso_forest.decision_function(rtciHF)\n",
    "\n",
    "RemoteTrippingCommandInjection = []\n",
    "for i in range(len(rtci)):\n",
    "    if rtci[i] < threshold:\n",
    "        RemoteTrippingCommandInjection.append(1)\n",
    "    else:\n",
    "        RemoteTrippingCommandInjection.append(0)\n",
    "        \n",
    "rtci1 = RemoteTrippingCommandInjection.count(1)"
   ]
  },
  {
   "cell_type": "code",
   "execution_count": 495,
   "metadata": {},
   "outputs": [],
   "source": [
    "rsc = iso_forest.decision_function(rscHF)\n",
    "\n",
    "RelaySettingChange = []\n",
    "for i in range(len(rsc)):\n",
    "    if rsc[i] < threshold:\n",
    "        RelaySettingChange.append(1)\n",
    "    else:\n",
    "        RelaySettingChange.append(0)\n",
    "        \n",
    "rsc1 = RelaySettingChange.count(1)"
   ]
  },
  {
   "cell_type": "code",
   "execution_count": 496,
   "metadata": {},
   "outputs": [
    {
     "name": "stdout",
     "output_type": "stream",
     "text": [
      "dt檢測出來的8123,總共8642,0.9399444573015505%\n",
      "rsc檢測出來的32574總共35053,0.9292785210966251%\n",
      "rtci檢測出來的6596總共7750,0.8510967741935483%\n"
     ]
    }
   ],
   "source": [
    "print(f\"dt檢測出來的{dj1},總共{len(datainjection)},{dj1/len(datainjection)}%\")\n",
    "print(f\"rsc檢測出來的{rsc1}總共{len(RelaySettingChange)},{rsc1/len(RelaySettingChange)}%\")\n",
    "print(f\"rtci檢測出來的{rtci1}總共{len(RemoteTrippingCommandInjection)},{rtci1/len(RemoteTrippingCommandInjection)}%\")"
   ]
  },
  {
   "cell_type": "code",
   "execution_count": 497,
   "metadata": {},
   "outputs": [
    {
     "name": "stdout",
     "output_type": "stream",
     "text": [
      "0.9292785210966251\n",
      "這是正確預測正常模式的機率0.8002270147559591\n"
     ]
    }
   ],
   "source": [
    "print(ne1/len(nePrid))\n",
    "\n",
    "\n",
    "print(f\"這是正確預測正常模式的機率{nozero/len(noPrid)}\")"
   ]
  }
 ],
 "metadata": {
  "kernelspec": {
   "display_name": "DeepSVDD",
   "language": "python",
   "name": "python3"
  },
  "language_info": {
   "codemirror_mode": {
    "name": "ipython",
    "version": 3
   },
   "file_extension": ".py",
   "mimetype": "text/x-python",
   "name": "python",
   "nbconvert_exporter": "python",
   "pygments_lexer": "ipython3",
   "version": "3.11.10"
  }
 },
 "nbformat": 4,
 "nbformat_minor": 2
}
